{
 "cells": [
  {
   "cell_type": "markdown",
   "metadata": {},
   "source": [
    "# Laboratorio 2 - Parte 2\n",
    "\n",
    "### Modelos no paramétricos\n",
    "\n",
    "### 2019-I\n",
    "\n",
    "#### Profesor: Julián D. Arias Londoño\n",
    "#### julian.ariasl@udea.edu.co\n"
   ]
  },
  {
   "cell_type": "markdown",
   "metadata": {},
   "source": [
    "## Guía del laboratorio\n",
    "\n",
    "En esta archivo va a encontrar tanto celdas de código cómo celdas de texto con las instrucciones para desarrollar el laboratorio.\n",
    "\n",
    "Lea atentamente las instrucciones entregadas en las celdas de texto correspondientes y proceda con la solución de las preguntas planteadas.\n",
    "\n",
    "Nota: no olvide ir ejecutando las celdas de código de arriba hacia abajo para que no tenga errores de importación de librerías o por falta de definición de variables."
   ]
  },
  {
   "cell_type": "markdown",
   "metadata": {},
   "source": [
    "#### Primer integrante\n",
    "Nombre: Daniel Torres González\n",
    "Cédula: 1020492000"
   ]
  },
  {
   "cell_type": "markdown",
   "metadata": {},
   "source": [
    "#### Segundo integrante\n",
    "Nombre: Daniel Santa Rendón\n",
    "Cédula: 1040050021"
   ]
  },
  {
   "cell_type": "code",
   "execution_count": 1,
   "metadata": {},
   "outputs": [],
   "source": [
    "from __future__ import division\n",
    "%matplotlib inline\n",
    "import numpy as np\n",
    "import scipy as sc\n",
    "import matplotlib.pyplot as plt\n",
    "\n",
    "\n",
    "#Evitar algunas advertencias\n",
    "import warnings\n",
    "warnings.filterwarnings(\"always\")"
   ]
  },
  {
   "cell_type": "markdown",
   "metadata": {},
   "source": [
    "## Ejercicio 1: Contextualización del problema\n",
    "\n",
    "\n",
    "Usaremos el dataset iris para el problema de clasificación, desde la librería sklearn. En el UCI Machine Learning Repository se encuentra más información en el siguiente [link](https://archive.ics.uci.edu/ml/datasets/iris) ."
   ]
  },
  {
   "cell_type": "code",
   "execution_count": 2,
   "metadata": {},
   "outputs": [
    {
     "name": "stderr",
     "output_type": "stream",
     "text": [
      "C:\\Users\\ALEJO\\Anaconda3\\lib\\importlib\\_bootstrap.py:219: RuntimeWarning: numpy.ufunc size changed, may indicate binary incompatibility. Expected 192 from C header, got 216 from PyObject\n",
      "  return f(*args, **kwds)\n",
      "C:\\Users\\ALEJO\\Anaconda3\\lib\\importlib\\_bootstrap.py:219: RuntimeWarning: numpy.ufunc size changed, may indicate binary incompatibility. Expected 192 from C header, got 216 from PyObject\n",
      "  return f(*args, **kwds)\n",
      "C:\\Users\\ALEJO\\Anaconda3\\lib\\importlib\\_bootstrap.py:219: RuntimeWarning: numpy.ufunc size changed, may indicate binary incompatibility. Expected 192 from C header, got 216 from PyObject\n",
      "  return f(*args, **kwds)\n",
      "C:\\Users\\ALEJO\\Anaconda3\\lib\\importlib\\_bootstrap.py:219: RuntimeWarning: numpy.ufunc size changed, may indicate binary incompatibility. Expected 192 from C header, got 216 from PyObject\n",
      "  return f(*args, **kwds)\n",
      "C:\\Users\\ALEJO\\Anaconda3\\lib\\importlib\\_bootstrap.py:219: RuntimeWarning: numpy.ufunc size changed, may indicate binary incompatibility. Expected 192 from C header, got 216 from PyObject\n",
      "  return f(*args, **kwds)\n",
      "C:\\Users\\ALEJO\\Anaconda3\\lib\\importlib\\_bootstrap.py:219: RuntimeWarning: numpy.ufunc size changed, may indicate binary incompatibility. Expected 192 from C header, got 216 from PyObject\n",
      "  return f(*args, **kwds)\n",
      "C:\\Users\\ALEJO\\Anaconda3\\lib\\importlib\\_bootstrap.py:219: RuntimeWarning: numpy.ufunc size changed, may indicate binary incompatibility. Expected 192 from C header, got 216 from PyObject\n",
      "  return f(*args, **kwds)\n",
      "C:\\Users\\ALEJO\\Anaconda3\\lib\\importlib\\_bootstrap.py:219: RuntimeWarning: numpy.ufunc size changed, may indicate binary incompatibility. Expected 192 from C header, got 216 from PyObject\n",
      "  return f(*args, **kwds)\n",
      "C:\\Users\\ALEJO\\Anaconda3\\lib\\importlib\\_bootstrap.py:219: RuntimeWarning: numpy.ufunc size changed, may indicate binary incompatibility. Expected 192 from C header, got 216 from PyObject\n",
      "  return f(*args, **kwds)\n",
      "C:\\Users\\ALEJO\\Anaconda3\\lib\\importlib\\_bootstrap.py:219: RuntimeWarning: numpy.ufunc size changed, may indicate binary incompatibility. Expected 192 from C header, got 216 from PyObject\n",
      "  return f(*args, **kwds)\n",
      "C:\\Users\\ALEJO\\Anaconda3\\lib\\importlib\\_bootstrap.py:219: RuntimeWarning: numpy.ufunc size changed, may indicate binary incompatibility. Expected 192 from C header, got 216 from PyObject\n",
      "  return f(*args, **kwds)\n",
      "C:\\Users\\ALEJO\\Anaconda3\\lib\\importlib\\_bootstrap.py:219: RuntimeWarning: numpy.ufunc size changed, may indicate binary incompatibility. Expected 192 from C header, got 216 from PyObject\n",
      "  return f(*args, **kwds)\n",
      "C:\\Users\\ALEJO\\Anaconda3\\lib\\importlib\\_bootstrap.py:219: RuntimeWarning: numpy.ufunc size changed, may indicate binary incompatibility. Expected 192 from C header, got 216 from PyObject\n",
      "  return f(*args, **kwds)\n",
      "C:\\Users\\ALEJO\\Anaconda3\\lib\\importlib\\_bootstrap.py:219: RuntimeWarning: numpy.ufunc size changed, may indicate binary incompatibility. Expected 192 from C header, got 216 from PyObject\n",
      "  return f(*args, **kwds)\n",
      "C:\\Users\\ALEJO\\Anaconda3\\lib\\importlib\\_bootstrap.py:219: RuntimeWarning: numpy.ufunc size changed, may indicate binary incompatibility. Expected 192 from C header, got 216 from PyObject\n",
      "  return f(*args, **kwds)\n",
      "C:\\Users\\ALEJO\\Anaconda3\\lib\\importlib\\_bootstrap.py:219: RuntimeWarning: numpy.ufunc size changed, may indicate binary incompatibility. Expected 192 from C header, got 216 from PyObject\n",
      "  return f(*args, **kwds)\n",
      "C:\\Users\\ALEJO\\Anaconda3\\lib\\importlib\\_bootstrap.py:219: RuntimeWarning: numpy.ufunc size changed, may indicate binary incompatibility. Expected 192 from C header, got 216 from PyObject\n",
      "  return f(*args, **kwds)\n",
      "C:\\Users\\ALEJO\\Anaconda3\\lib\\importlib\\_bootstrap.py:219: RuntimeWarning: numpy.ufunc size changed, may indicate binary incompatibility. Expected 192 from C header, got 216 from PyObject\n",
      "  return f(*args, **kwds)\n",
      "C:\\Users\\ALEJO\\Anaconda3\\lib\\importlib\\_bootstrap.py:219: RuntimeWarning: numpy.ufunc size changed, may indicate binary incompatibility. Expected 192 from C header, got 216 from PyObject\n",
      "  return f(*args, **kwds)\n",
      "C:\\Users\\ALEJO\\Anaconda3\\lib\\importlib\\_bootstrap.py:219: RuntimeWarning: numpy.ufunc size changed, may indicate binary incompatibility. Expected 192 from C header, got 216 from PyObject\n",
      "  return f(*args, **kwds)\n",
      "C:\\Users\\ALEJO\\Anaconda3\\lib\\importlib\\_bootstrap.py:219: RuntimeWarning: numpy.ufunc size changed, may indicate binary incompatibility. Expected 192 from C header, got 216 from PyObject\n",
      "  return f(*args, **kwds)\n",
      "C:\\Users\\ALEJO\\Anaconda3\\lib\\importlib\\_bootstrap.py:219: RuntimeWarning: numpy.ufunc size changed, may indicate binary incompatibility. Expected 192 from C header, got 216 from PyObject\n",
      "  return f(*args, **kwds)\n",
      "C:\\Users\\ALEJO\\Anaconda3\\lib\\importlib\\_bootstrap.py:219: RuntimeWarning: numpy.ufunc size changed, may indicate binary incompatibility. Expected 192 from C header, got 216 from PyObject\n",
      "  return f(*args, **kwds)\n",
      "C:\\Users\\ALEJO\\Anaconda3\\lib\\importlib\\_bootstrap.py:219: RuntimeWarning: numpy.ufunc size changed, may indicate binary incompatibility. Expected 192 from C header, got 216 from PyObject\n",
      "  return f(*args, **kwds)\n",
      "C:\\Users\\ALEJO\\Anaconda3\\lib\\importlib\\_bootstrap.py:219: RuntimeWarning: numpy.ufunc size changed, may indicate binary incompatibility. Expected 192 from C header, got 216 from PyObject\n",
      "  return f(*args, **kwds)\n",
      "C:\\Users\\ALEJO\\Anaconda3\\lib\\importlib\\_bootstrap.py:219: RuntimeWarning: numpy.ufunc size changed, may indicate binary incompatibility. Expected 192 from C header, got 216 from PyObject\n",
      "  return f(*args, **kwds)\n",
      "C:\\Users\\ALEJO\\Anaconda3\\lib\\importlib\\_bootstrap.py:219: RuntimeWarning: numpy.ufunc size changed, may indicate binary incompatibility. Expected 192 from C header, got 216 from PyObject\n",
      "  return f(*args, **kwds)\n",
      "C:\\Users\\ALEJO\\Anaconda3\\lib\\importlib\\_bootstrap.py:219: RuntimeWarning: numpy.ufunc size changed, may indicate binary incompatibility. Expected 192 from C header, got 216 from PyObject\n",
      "  return f(*args, **kwds)\n",
      "C:\\Users\\ALEJO\\Anaconda3\\lib\\importlib\\_bootstrap.py:219: RuntimeWarning: numpy.ufunc size changed, may indicate binary incompatibility. Expected 192 from C header, got 216 from PyObject\n",
      "  return f(*args, **kwds)\n"
     ]
    }
   ],
   "source": [
    "#cargamos la bd iris desde el dataset de sklearn\n",
    "from sklearn import datasets\n",
    "\n",
    "iris = datasets.load_iris()\n",
    "\n",
    "\n",
    "X, Y = iris.data, iris.target"
   ]
  },
  {
   "cell_type": "markdown",
   "metadata": {},
   "source": [
    "Responda las siguientes preguntas: \n",
    "\n",
    "1.1 ¿Cu&aacute;ntas clases tiene el problema?:\n"
   ]
  },
  {
   "cell_type": "code",
   "execution_count": 3,
   "metadata": {},
   "outputs": [
    {
     "data": {
      "text/plain": [
       "3"
      ]
     },
     "execution_count": 3,
     "metadata": {},
     "output_type": "execute_result"
    }
   ],
   "source": [
    "len(np.unique(Y))"
   ]
  },
  {
   "cell_type": "code",
   "execution_count": 4,
   "metadata": {},
   "outputs": [
    {
     "data": {
      "text/plain": [
       "array([0, 1, 2])"
      ]
     },
     "execution_count": 4,
     "metadata": {},
     "output_type": "execute_result"
    }
   ],
   "source": [
    "np.unique(Y)"
   ]
  },
  {
   "cell_type": "markdown",
   "metadata": {},
   "source": [
    "El problema tiene 3 clases: 0, 1 y 2"
   ]
  },
  {
   "cell_type": "markdown",
   "metadata": {},
   "source": [
    "1.2 ¿Cu&aacute;ntas caracter&iacute;sticas tiene el problema?:"
   ]
  },
  {
   "cell_type": "code",
   "execution_count": 5,
   "metadata": {},
   "outputs": [
    {
     "data": {
      "text/plain": [
       "4"
      ]
     },
     "execution_count": 5,
     "metadata": {},
     "output_type": "execute_result"
    }
   ],
   "source": [
    "X.shape[1]"
   ]
  },
  {
   "cell_type": "markdown",
   "metadata": {},
   "source": [
    "El problema tiene 4 características"
   ]
  },
  {
   "cell_type": "markdown",
   "metadata": {},
   "source": [
    "1.3 ¿Cu&aacute;ntas muestras tiene el problema?:"
   ]
  },
  {
   "cell_type": "code",
   "execution_count": 6,
   "metadata": {},
   "outputs": [
    {
     "data": {
      "text/plain": [
       "150"
      ]
     },
     "execution_count": 6,
     "metadata": {},
     "output_type": "execute_result"
    }
   ],
   "source": [
    "X.shape[0]"
   ]
  },
  {
   "cell_type": "markdown",
   "metadata": {},
   "source": [
    "El problema tiene 150 muestras"
   ]
  },
  {
   "cell_type": "markdown",
   "metadata": {},
   "source": [
    "1.4 ¿Cu&aacute;ntas muestras por cada clase hay en la base de datos?:"
   ]
  },
  {
   "cell_type": "code",
   "execution_count": 7,
   "metadata": {},
   "outputs": [
    {
     "name": "stdout",
     "output_type": "stream",
     "text": [
      "Para la clase 0 son  50  muestras\n",
      "Para la clase 1 son  50  muestras\n",
      "Para la clase 2 son  50  muestras\n"
     ]
    }
   ],
   "source": [
    "print(\"Para la clase 0 son \",len(Y[Y==0]), \" muestras\")\n",
    "print(\"Para la clase 1 son \",len(Y[Y==1]), \" muestras\")\n",
    "print(\"Para la clase 2 son \",len(Y[Y==2]), \" muestras\")"
   ]
  },
  {
   "cell_type": "markdown",
   "metadata": {},
   "source": [
    "## Ejercicio 2: Completar código KNN\n",
    "\n",
    "Analice los siguientes métodos de la teoría vista para los modelos de *K-vecinos más cercanos (KNN)* y complete el código del método KNN.\n",
    "\n",
    "<b>Nota</b>: Para el cáculo de la distancia entre vectores tienen dos opciones, usar la función la distancia euclidiana `scipy.spatial.distance.euclidean`([Ejemplo](https://docs.scipy.org/doc/scipy/reference/generated/scipy.spatial.distance.euclidean.html)) o usar la función `numpy.linalg.norm`([Ejemplo](https://docs.scipy.org/doc/numpy/reference/generated/numpy.linalg.norm.html)). Revisen la documentación para comprender su uso. También serán de utilidad las funciones `numpy.sort` y `numpy.argsort`.\n",
    "\n",
    "\n",
    "<b>Nota</b>: Para el cáculo de la distancia entre vectores tienen dos opciones, usar la función scipy.spatial.distance.euclidean o usar la función numpy.linalg.norm. <b>Revisen la documentación </b> para comprender su uso. También serán de utilidad las funciones numpy.sort y numpy.argsort."
   ]
  },
  {
   "cell_type": "code",
   "execution_count": 8,
   "metadata": {},
   "outputs": [],
   "source": [
    "from scipy.stats import mode\n",
    "import operator\n",
    "\n",
    "#Para calcular el error en los problemas de clasificación\n",
    "def ErrorClas(Y_lest, Y):\n",
    "    error = 1 - np.sum(Y_lest == Y)/len(Y)\n",
    "    \n",
    "    return error\n",
    "\n",
    "\n",
    "def KNN(X_train, Y_train, X_val, k, tipo):\n",
    "    \n",
    "    #X_train es la matriz con las muestras de entrenamiento\n",
    "    #Y_train es un vector con los valores de salida pra cada una de las muestras de entrenamiento\n",
    "    #X_val es la matriz con las muestras de validación\n",
    "    #tipo es una bandera que indica si el problema es de regresión o de clasificación.\n",
    "    \n",
    "    #Parámetro k que equivale al número de vecinos a tener en cuenta para resolver el problema de predicción de la variable de salida\n",
    "    Nt = len(X_val)\n",
    "    Y_test = np.zeros(Nt)\n",
    "\n",
    "    num = 0\n",
    "    distances = sc.spatial.distance_matrix(X_val, X_train)\n",
    "    \n",
    "    for xtest in X_val:\n",
    "        neighbors_index = np.argsort(distances[num])[:k]\n",
    "        k_nearest = np.take(Y_train, neighbors_index)\n",
    "        \n",
    "        if tipo == 'r':\n",
    "            Y_test[num] = np.sum(k_nearest)/k\n",
    "            \n",
    "        elif tipo == 'c':\n",
    "            Y_test[num] = sc.stats.mode(k_nearest)[0]\n",
    "            \n",
    "        num += 1\n",
    "    \n",
    "    return Y_test #Debe retornar un vector que contenga las predicciones para cada una de las muestras en X_val, en el mismo orden.  \n",
    "  "
   ]
  },
  {
   "cell_type": "markdown",
   "metadata": {},
   "source": [
    "## Ejercicio 3\n",
    "\n",
    "Una vez haya completado el codigo del método de KNN, ejecute varias veces el proceso de entrenamiento y evaluación cambiando el parametro $k$, el cual es el numero de vecinos, y complete la siguiente tabla con los valores del error de clasificación obtenidos:"
   ]
  },
  {
   "cell_type": "code",
   "execution_count": 24,
   "metadata": {},
   "outputs": [
    {
     "name": "stdout",
     "output_type": "stream",
     "text": [
      "\n",
      "Error durante la prueba = 0.26973684210526316+-0.08802031684381349\n"
     ]
    }
   ],
   "source": [
    "from numpy import random\n",
    "from sklearn.model_selection import train_test_split\n",
    "import math\n",
    "import numpy.matlib as matlib\n",
    "N = np.size(X,0)\n",
    "\n",
    "#Validamos el modelo\n",
    "random.seed(1)\n",
    "Error = np.zeros(4)\n",
    "for j in range(4):\n",
    "    \n",
    "    Xtrain, Xtest, Ytrain, Ytest = train_test_split(X, Y, test_size=0.25)\n",
    "    #Normalizamos los datos\n",
    "    media = np.mean(Xtrain)\n",
    "    desvia = np.std(Xtrain)\n",
    "    Xtrain = sc.stats.stats.zscore(Xtrain)\n",
    "    Xtest = (Xtest - np.matlib.repmat(media, Xtest.shape[0], 1))/np.matlib.repmat(desvia, Xtest.shape[0], 1)\n",
    "\n",
    "    Yest = KNN(Xtrain, Ytrain, Xtest, 2, 'c')#Complete con el llamado apropiado de la función que Uds diseñaron\n",
    "    \n",
    "    #Evaluamos las predicciones del modelo con los datos de test\n",
    "    Error[j] = ErrorClas(Yest,Ytest)\n",
    "print('\\nError durante la prueba = ' + str(np.mean(Error)) + '+-' + str(np.std(Error)))"
   ]
  },
  {
   "cell_type": "markdown",
   "metadata": {},
   "source": [
    "Responda:\n",
    "\n",
    "3.1 ¿Qué metodología de validación se usa en el experimento?\n"
   ]
  },
  {
   "cell_type": "code",
   "execution_count": 10,
   "metadata": {},
   "outputs": [
    {
     "name": "stdout",
     "output_type": "stream",
     "text": [
      "(112, 4) (38, 4)\n"
     ]
    }
   ],
   "source": [
    "Xtrain, Xtest, Ytrain, Ytest = train_test_split(X, Y, test_size=0.25)\n",
    "print(Xtrain.shape, Xtest.shape)"
   ]
  },
  {
   "cell_type": "markdown",
   "metadata": {},
   "source": [
    "El método utilizado es el de **Validación Booststrapping**, debido a que anteriormente se realizó una división aleatoria 75-25, donde el **25%** es usado para la validación y luego se repite nuevamente el proceso. "
   ]
  },
  {
   "cell_type": "markdown",
   "metadata": {},
   "source": [
    "3.2 ¿Cuántas muestras se usan para el entrenamiento?\n"
   ]
  },
  {
   "cell_type": "code",
   "execution_count": 11,
   "metadata": {},
   "outputs": [
    {
     "data": {
      "text/plain": [
       "112"
      ]
     },
     "execution_count": 11,
     "metadata": {},
     "output_type": "execute_result"
    }
   ],
   "source": [
    "Xtrain.shape[0]"
   ]
  },
  {
   "cell_type": "markdown",
   "metadata": {},
   "source": [
    "Se utilizan 112 muestras para el entrenamiento\n"
   ]
  },
  {
   "cell_type": "markdown",
   "metadata": {},
   "source": [
    "3.3 ¿Cuántas muestras se usan para la validación?"
   ]
  },
  {
   "cell_type": "code",
   "execution_count": 12,
   "metadata": {},
   "outputs": [
    {
     "data": {
      "text/plain": [
       "38"
      ]
     },
     "execution_count": 12,
     "metadata": {},
     "output_type": "execute_result"
    }
   ],
   "source": [
    "Xtest.shape[0]"
   ]
  },
  {
   "cell_type": "markdown",
   "metadata": {},
   "source": [
    "Se utilizan 38 muestras para la validación"
   ]
  },
  {
   "cell_type": "markdown",
   "metadata": {},
   "source": [
    "#### Tabla de resultados"
   ]
  },
  {
   "cell_type": "code",
   "execution_count": 13,
   "metadata": {},
   "outputs": [],
   "source": [
    "def prueba (k, tipo = 'c'):\n",
    "    \n",
    "    N = np.size(X,0)\n",
    "\n",
    "    #Validamos el modelo\n",
    "    random.seed(1)\n",
    "    Error = np.zeros(4)\n",
    "    \n",
    "    for j in range(4):\n",
    "\n",
    "        Xtrain, Xtest, Ytrain, Ytest = train_test_split(X, Y, test_size=0.25)\n",
    "        \n",
    "        #Normalizamos los datos\n",
    "        media = np.mean(Xtrain)\n",
    "        desvia = np.std(Xtrain)\n",
    "        Xtrain = sc.stats.stats.zscore(Xtrain)\n",
    "        Xtest = (Xtest - np.matlib.repmat(media, Xtest.shape[0], 1))/np.matlib.repmat(desvia, Xtest.shape[0], 1)\n",
    "\n",
    "        Yest = KNN(Xtrain, Ytrain, Xtest, k, tipo)#Complete con el llamado apropiado de la función que Uds diseñaron\n",
    "\n",
    "        #Evaluamos las predicciones del modelo con los datos de test\n",
    "        Error[j] = ErrorClas(Yest,Ytest)\n",
    "        \n",
    "    return np.mean(Error), np.std(Error)"
   ]
  },
  {
   "cell_type": "code",
   "execution_count": 25,
   "metadata": {},
   "outputs": [
    {
     "data": {
      "application/vnd.jupyter.widget-view+json": {
       "model_id": "120a4f35afb345198326283fb9f6ca15",
       "version_major": 2,
       "version_minor": 0
      },
      "text/plain": [
       "QgridWidget(grid_options={'fullWidthRows': True, 'syncColumnCellResize': True, 'forceFitColumns': True, 'defau…"
      ]
     },
     "metadata": {},
     "output_type": "display_data"
    }
   ],
   "source": [
    "import pandas as pd\n",
    "import qgrid\n",
    "pd.options.mode.chained_assignment = None\n",
    "\n",
    "randn = np.random.randn\n",
    "df_types = pd.DataFrame({\n",
    "    'Numero de vecinos' : pd.Series(['1', '2', '3', '4', '5', '6', '7'])})\n",
    "df_types[\"Error_Prueba\"] = \"\"\n",
    "df_types[\"Desviación estándar del error\"] = \"\"\n",
    "df_types.set_index(['Numero de vecinos'], inplace=True)\n",
    "#df_types[\"Error_Prueba\"][1] = \"0.2697\"\n",
    "#df_types[\"Desviación estándar del error\"][1] = \"0.088\" \n",
    "\n",
    "i = 0\n",
    "for k in df_types.index:\n",
    "    error, std = prueba(int(k))\n",
    "    \n",
    "    df_types[\"Error_Prueba\"][i] = str(error)\n",
    "    df_types[\"Desviación estándar del error\"][i] = str(std)\n",
    "    \n",
    "    i += 1\n",
    "    \n",
    "qgrid_widget = qgrid.show_grid(df_types, show_toolbar=False)\n",
    "qgrid_widget"
   ]
  },
  {
   "cell_type": "markdown",
   "metadata": {},
   "source": [
    "Ejecute la siguiente instrucción para dejar guardados en el notebook los resultados de las pruebas."
   ]
  },
  {
   "cell_type": "code",
   "execution_count": 15,
   "metadata": {},
   "outputs": [
    {
     "data": {
      "text/html": [
       "<div>\n",
       "<style scoped>\n",
       "    .dataframe tbody tr th:only-of-type {\n",
       "        vertical-align: middle;\n",
       "    }\n",
       "\n",
       "    .dataframe tbody tr th {\n",
       "        vertical-align: top;\n",
       "    }\n",
       "\n",
       "    .dataframe thead th {\n",
       "        text-align: right;\n",
       "    }\n",
       "</style>\n",
       "<table border=\"1\" class=\"dataframe\">\n",
       "  <thead>\n",
       "    <tr style=\"text-align: right;\">\n",
       "      <th></th>\n",
       "      <th>Error_Prueba</th>\n",
       "      <th>Desviación estándar del error</th>\n",
       "    </tr>\n",
       "    <tr>\n",
       "      <th>Numero de vecinos</th>\n",
       "      <th></th>\n",
       "      <th></th>\n",
       "    </tr>\n",
       "  </thead>\n",
       "  <tbody>\n",
       "    <tr>\n",
       "      <th>1</th>\n",
       "      <td>0.20394736842105263</td>\n",
       "      <td>0.11376063464335907</td>\n",
       "    </tr>\n",
       "    <tr>\n",
       "      <th>2</th>\n",
       "      <td>0.26973684210526316</td>\n",
       "      <td>0.08802031684381349</td>\n",
       "    </tr>\n",
       "    <tr>\n",
       "      <th>3</th>\n",
       "      <td>0.26973684210526316</td>\n",
       "      <td>0.08603090020146066</td>\n",
       "    </tr>\n",
       "    <tr>\n",
       "      <th>4</th>\n",
       "      <td>0.28289473684210525</td>\n",
       "      <td>0.07529949435697103</td>\n",
       "    </tr>\n",
       "    <tr>\n",
       "      <th>5</th>\n",
       "      <td>0.26973684210526316</td>\n",
       "      <td>0.08802031684381349</td>\n",
       "    </tr>\n",
       "    <tr>\n",
       "      <th>6</th>\n",
       "      <td>0.2763157894736842</td>\n",
       "      <td>0.0842516347030638</td>\n",
       "    </tr>\n",
       "    <tr>\n",
       "      <th>7</th>\n",
       "      <td>0.2763157894736842</td>\n",
       "      <td>0.0842516347030638</td>\n",
       "    </tr>\n",
       "  </tbody>\n",
       "</table>\n",
       "</div>"
      ],
      "text/plain": [
       "                          Error_Prueba Desviación estándar del error\n",
       "Numero de vecinos                                                   \n",
       "1                  0.20394736842105263           0.11376063464335907\n",
       "2                  0.26973684210526316           0.08802031684381349\n",
       "3                  0.26973684210526316           0.08603090020146066\n",
       "4                  0.28289473684210525           0.07529949435697103\n",
       "5                  0.26973684210526316           0.08802031684381349\n",
       "6                   0.2763157894736842            0.0842516347030638\n",
       "7                   0.2763157894736842            0.0842516347030638"
      ]
     },
     "execution_count": 15,
     "metadata": {},
     "output_type": "execute_result"
    }
   ],
   "source": [
    "qgrid_widget.get_changed_df()"
   ]
  },
  {
   "cell_type": "markdown",
   "metadata": {},
   "source": [
    "## Ejercicio 4\n",
    "\n",
    "A continuación debe completar el código del método parzen para resolver problemas de clasificación con el modelo ventana de Parzen."
   ]
  },
  {
   "cell_type": "code",
   "execution_count": 16,
   "metadata": {},
   "outputs": [],
   "source": [
    "#Calcula el kernel gaussiano de x\n",
    "def kernel_gaussiano(x):\n",
    "    return np.exp((-0.5)*x**2)\n",
    "\n",
    "def ParzenWindow(x,Data,h):\n",
    "    h = h\n",
    "    Ns = Data.shape[0]\n",
    "    suma = 0\n",
    "    for k in range(Ns):\n",
    "        u = sc.spatial.distance.euclidean(x,Data[k,:])\n",
    "        suma += kernel_gaussiano(u/h)\n",
    "    return suma\n",
    "\n",
    "def ParzenClass(X_train, Y_train, X_val, ancho_h):\n",
    "\n",
    "    h = ancho_h\n",
    "    Nv = len(X_val)\n",
    "    Y_est = np.array([])  \n",
    "    X_clases = []\n",
    "    \n",
    "    for clase in np.unique(Y_train):\n",
    "        X_clases.append(X_train[np.where(Y_train == clase )])    \n",
    "\n",
    "    probabilidades = []\n",
    "    j = 0\n",
    "    for x_clase in X_clases: \n",
    "        distances = sc.spatial.distance_matrix(X_val, x_clase) / h\n",
    "        \n",
    "        for i in range(Nv):\n",
    "            k = kernel_gaussiano(distances[i])\n",
    "            P = np.sum(k)\n",
    "            if(j == 0):\n",
    "                probabilidades.append([P, 0.0, 0.0])\n",
    "            else:\n",
    "                probabilidades[i][j] = P\n",
    "        j += 1   \n",
    "    \n",
    "    for p in probabilidades:\n",
    "        Y_est = np.append(Y_est,p.index(max(p)))\n",
    "    return Y_est#Debe retornar un vector que contenga las predicciones para cada una de las muestras en X_val, en el mismo orden.  "
   ]
  },
  {
   "cell_type": "markdown",
   "metadata": {},
   "source": [
    "## Ejercicio 5\n",
    "\n",
    "Ahora debe resolver el mismo problema de clasificación con el método ventana de Parzen. Complete el código ejecute las pruebas para diferentes valores de $h$ y llene la siguiente tabla:"
   ]
  },
  {
   "cell_type": "code",
   "execution_count": 17,
   "metadata": {},
   "outputs": [
    {
     "name": "stdout",
     "output_type": "stream",
     "text": [
      "\n",
      "Error durante la prueba = 0.2216880341880342+-0.04332854434165311\n"
     ]
    }
   ],
   "source": [
    "from numpy import random\n",
    "from sklearn.model_selection import StratifiedKFold\n",
    "import math\n",
    "\n",
    "#Validamos el modelo\n",
    "random.seed(1)\n",
    "Error = np.zeros(4)\n",
    "skf = StratifiedKFold(n_splits=4)\n",
    "j = 0\n",
    "MTrain = []\n",
    "MTest = []\n",
    "\n",
    "for train, test in skf.split(X, Y):\n",
    "    Xtrain = X[train,:]\n",
    "    MTrain.append(Xtrain.shape[0])\n",
    "    Ytrain = Y[train]\n",
    "    Xtest = X[test,:]\n",
    "    MTest.append(Xtest.shape[0])\n",
    "    Ytest = Y[test]\n",
    "    #Normalizamos los datos\n",
    "    media = np.mean(Xtrain)\n",
    "    desvia = np.std(Xtrain)\n",
    "    Xtrain = sc.stats.stats.zscore(Xtrain)\n",
    "    Xtest = (Xtest - np.matlib.repmat(media, Xtest.shape[0], 1))/np.matlib.repmat(desvia, Xtest.shape[0], 1)\n",
    "\n",
    "    Yest = ParzenClass(Xtrain, Ytrain, Xtest, 0.1)#Complete con el llamado apropiado de la función que Uds diseñaron\n",
    "  \n",
    "    #Evaluamos las predicciones del modelo con los datos de test\n",
    "    Error[j] = ErrorClas(Yest,Ytest)\n",
    "    j += 1\n",
    "print('\\nError durante la prueba = ' + str(np.mean(Error)) + '+-' + str(np.std(Error)))"
   ]
  },
  {
   "cell_type": "markdown",
   "metadata": {},
   "source": [
    "Responda:\n",
    "    \n",
    "5.1 ¿Qué metodología de validación se usó en la simulación?:\n"
   ]
  },
  {
   "cell_type": "code",
   "execution_count": 18,
   "metadata": {},
   "outputs": [
    {
     "data": {
      "text/plain": [
       "<generator object _BaseKFold.split at 0x0000028827EC6E58>"
      ]
     },
     "execution_count": 18,
     "metadata": {},
     "output_type": "execute_result"
    }
   ],
   "source": [
    "skf = StratifiedKFold(n_splits=4)\n",
    "skf.split(X, Y)"
   ]
  },
  {
   "cell_type": "markdown",
   "metadata": {
    "colab_type": "text",
    "id": "kB8BCjIeXY_L"
   },
   "source": [
    "El metodo que se utiliza en este experimentos es el de **Validación Cruzada K folds** usando 4 folks, en la linea anterior que hace parte del codigo lo que realiza es dividir las muestras en 4 grupos distintos en el que se utilizaran 3 para el entrenamiento y 1 para la validacion. "
   ]
  },
  {
   "cell_type": "markdown",
   "metadata": {},
   "source": [
    "5.2 ¿Cuántas muestras se usan para el entrenamiento?:"
   ]
  },
  {
   "cell_type": "code",
   "execution_count": 19,
   "metadata": {},
   "outputs": [
    {
     "name": "stdout",
     "output_type": "stream",
     "text": [
      "[111, 111, 114, 114]\n"
     ]
    }
   ],
   "source": [
    "print(MTrain)"
   ]
  },
  {
   "cell_type": "markdown",
   "metadata": {},
   "source": [
    "Como en el método se hizo con 4 folds, por lo tanto, fueron 4 iteraciones; para cada iteración es una cantidad diferente: Para la primera iteración fueron 111, igualmente que para la segunda. Para la tercera y la cuarta iteración fueron 114 cada una"
   ]
  },
  {
   "cell_type": "markdown",
   "metadata": {},
   "source": [
    "5.3 ¿Cuántas muestras se usan para la validación?:"
   ]
  },
  {
   "cell_type": "code",
   "execution_count": 20,
   "metadata": {},
   "outputs": [
    {
     "name": "stdout",
     "output_type": "stream",
     "text": [
      "[39, 39, 36, 36]\n"
     ]
    }
   ],
   "source": [
    "print(MTest)"
   ]
  },
  {
   "cell_type": "markdown",
   "metadata": {},
   "source": [
    "Para cada fold, también fue una cantidad de muestras difernte en el entrenamiento. Para la primera y la segunda iteración se usaron 39 muetsras. Para las dos iteraciones restantes se usaron 36 muestras en cada una."
   ]
  },
  {
   "cell_type": "markdown",
   "metadata": {},
   "source": [
    "#### Tabla de resultados"
   ]
  },
  {
   "cell_type": "code",
   "execution_count": 21,
   "metadata": {},
   "outputs": [],
   "source": [
    "def pruebaVP(h):\n",
    "    \n",
    "    random.seed(1)\n",
    "    Error = np.zeros(4)\n",
    "    skf = StratifiedKFold(n_splits=4)\n",
    "    j = 0\n",
    "    for train, test in skf.split(X, Y):\n",
    "        Xtrain = X[train,:]\n",
    "        Ytrain = Y[train]\n",
    "        Xtest = X[test,:]\n",
    "        Ytest = Y[test]\n",
    "        #Normalizamos los datos\n",
    "        media = np.mean(Xtrain)\n",
    "        desvia = np.std(Xtrain)\n",
    "        Xtrain = sc.stats.stats.zscore(Xtrain)\n",
    "        Xtest = (Xtest - np.matlib.repmat(media, Xtest.shape[0], 1))/np.matlib.repmat(desvia, Xtest.shape[0], 1)\n",
    "\n",
    "        Yest = ParzenClass(Xtrain, Ytrain, Xtest, h)#Complete con el llamado apropiado de la función que Uds diseñaron\n",
    "\n",
    "        #Evaluamos las predicciones del modelo con los datos de test\n",
    "        Error[j] = ErrorClas(Yest,Ytest)\n",
    "        j += 1\n",
    "    \n",
    "    return np.mean(Error), np.std(Error)"
   ]
  },
  {
   "cell_type": "code",
   "execution_count": 22,
   "metadata": {},
   "outputs": [
    {
     "data": {
      "application/vnd.jupyter.widget-view+json": {
       "model_id": "8b14c679d20b4f48b4ef00723de9f9df",
       "version_major": 2,
       "version_minor": 0
      },
      "text/plain": [
       "QgridWidget(grid_options={'fullWidthRows': True, 'syncColumnCellResize': True, 'forceFitColumns': True, 'defau…"
      ]
     },
     "metadata": {},
     "output_type": "display_data"
    }
   ],
   "source": [
    "import pandas as pd\n",
    "import qgrid\n",
    "randn = np.random.randn\n",
    "df_types2 = pd.DataFrame({\n",
    "    'Tamano de ventana' : pd.Series(['0.05', '0.1', '0.5', '1', '2', '5', '10'])})\n",
    "df_types2[\"Error_Prueba\"] = \"\"\n",
    "df_types2[\"Desviación estándar del error\"] = \"\"\n",
    "df_types2.set_index(['Tamano de ventana'], inplace=True)\n",
    "df_types2[\"Error_Prueba\"][1] = \"0.222\"\n",
    "df_types2[\"Desviación estándar del error\"][1] = \"0.043\"\n",
    "#df_types.sort_index(inplace=True)\n",
    "\n",
    "i = 0\n",
    "for k in df_types2.index:\n",
    "    error, std = pruebaVP(float(k))\n",
    "    \n",
    "    df_types2[\"Error_Prueba\"][i] = str(error)\n",
    "    df_types2[\"Desviación estándar del error\"][i] = str(std)\n",
    "    \n",
    "    i += 1\n",
    "\n",
    "qgrid_widget = qgrid.show_grid(df_types2, show_toolbar=False)\n",
    "qgrid_widget"
   ]
  },
  {
   "cell_type": "markdown",
   "metadata": {},
   "source": [
    "Ejecute la siguiente instrucción para dejar guardados en el notebook los resultados de las pruebas."
   ]
  },
  {
   "cell_type": "code",
   "execution_count": 23,
   "metadata": {},
   "outputs": [
    {
     "data": {
      "text/html": [
       "<div>\n",
       "<style scoped>\n",
       "    .dataframe tbody tr th:only-of-type {\n",
       "        vertical-align: middle;\n",
       "    }\n",
       "\n",
       "    .dataframe tbody tr th {\n",
       "        vertical-align: top;\n",
       "    }\n",
       "\n",
       "    .dataframe thead th {\n",
       "        text-align: right;\n",
       "    }\n",
       "</style>\n",
       "<table border=\"1\" class=\"dataframe\">\n",
       "  <thead>\n",
       "    <tr style=\"text-align: right;\">\n",
       "      <th></th>\n",
       "      <th>Error_Prueba</th>\n",
       "      <th>Desviación estándar del error</th>\n",
       "    </tr>\n",
       "    <tr>\n",
       "      <th>Tamano de ventana</th>\n",
       "      <th></th>\n",
       "      <th></th>\n",
       "    </tr>\n",
       "  </thead>\n",
       "  <tbody>\n",
       "    <tr>\n",
       "      <th>0.05</th>\n",
       "      <td>0.2216880341880342</td>\n",
       "      <td>0.04332854434165311</td>\n",
       "    </tr>\n",
       "    <tr>\n",
       "      <th>0.1</th>\n",
       "      <td>0.2216880341880342</td>\n",
       "      <td>0.04332854434165311</td>\n",
       "    </tr>\n",
       "    <tr>\n",
       "      <th>0.5</th>\n",
       "      <td>0.281517094017094</td>\n",
       "      <td>0.04021339704891218</td>\n",
       "    </tr>\n",
       "    <tr>\n",
       "      <th>1</th>\n",
       "      <td>0.280982905982906</td>\n",
       "      <td>0.03145818774430656</td>\n",
       "    </tr>\n",
       "    <tr>\n",
       "      <th>2</th>\n",
       "      <td>0.24198717948717952</td>\n",
       "      <td>0.058466142137675314</td>\n",
       "    </tr>\n",
       "    <tr>\n",
       "      <th>5</th>\n",
       "      <td>0.2216880341880342</td>\n",
       "      <td>0.04696907336459245</td>\n",
       "    </tr>\n",
       "    <tr>\n",
       "      <th>10</th>\n",
       "      <td>0.2216880341880342</td>\n",
       "      <td>0.04696907336459245</td>\n",
       "    </tr>\n",
       "  </tbody>\n",
       "</table>\n",
       "</div>"
      ],
      "text/plain": [
       "                          Error_Prueba Desviación estándar del error\n",
       "Tamano de ventana                                                   \n",
       "0.05                0.2216880341880342           0.04332854434165311\n",
       "0.1                 0.2216880341880342           0.04332854434165311\n",
       "0.5                  0.281517094017094           0.04021339704891218\n",
       "1                    0.280982905982906           0.03145818774430656\n",
       "2                  0.24198717948717952          0.058466142137675314\n",
       "5                   0.2216880341880342           0.04696907336459245\n",
       "10                  0.2216880341880342           0.04696907336459245"
      ]
     },
     "execution_count": 23,
     "metadata": {},
     "output_type": "execute_result"
    }
   ],
   "source": [
    "qgrid_widget.get_changed_df()"
   ]
  }
 ],
 "metadata": {
  "kernelspec": {
   "display_name": "Python 3",
   "language": "python",
   "name": "python3"
  },
  "language_info": {
   "codemirror_mode": {
    "name": "ipython",
    "version": 3
   },
   "file_extension": ".py",
   "mimetype": "text/x-python",
   "name": "python",
   "nbconvert_exporter": "python",
   "pygments_lexer": "ipython3",
   "version": "3.7.3"
  }
 },
 "nbformat": 4,
 "nbformat_minor": 2
}
